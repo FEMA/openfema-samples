{
 "cells": [
  {
   "cell_type": "markdown",
   "metadata": {},
   "source": [
    "# OpenFEMA API Tutorial: Part 1 - Getting Started \n",
    "  \n",
    "## Quick Summary\n",
    "- This is an introduction to the OpenFEMA API and will demonstrate its basic use - *it is not a Python language tutorial*\n",
    "- A web API allows users to send a request to a web-based resource that sends a response back containing data\n",
    "- The OpenFEMA API has a rich set of features that allow data to be filtered, sorted, and integrated into your own apps or automations\n",
    "- Calling the API can be done easily through a web browser or through code\n",
    "- Metadata can be returned with each dataset call\n",
    "- The [Final Working Example](#Final-Working-Example) consists of Python code that will perform the basics - declare a library to facilitate web requests, specify the endpoint URL, issue the OpenFEMA API call, and capture the results\n",
    "- The next tutorial will cover OpenFEMA API parameters and additional usage examples\n",
    "\n",
    "\n",
    "## Overview\n",
    "FEMA collects vast amounts of data on multiple aspects of emergency management—Disaster Information, Individual Assistance, Public Assistance, Hazard Mitigation, National Flood Insurance Program (NFIP), Emergency Management, Preparedness, and Grants. OpenFEMA is the public’s resource for this raw data. Datasets are available for download, along with an application programming interface (API) that provides data in an easily digestible, machine-readable format.\n",
    "\n",
    "The purpose of this notebook is to provide an introduction to the OpenFEMA API and demonstrate its basic use. If you are new to OpenFEMA, are new to APIs, or have limited programming experience, start here. The examples are presented using Python 3, but it should be easy to translate them to almost any programming language.\n",
    "\n",
    "For a more detailed explanation of the OpenFEMA program and the datasets it offers, please see the [OpenFEMA webpage](https://www.fema.gov/open).\n",
    "\n",
    "## What is an API?\n",
    "Put simply, an application programming interface is software that sends information back and forth between a resource or application and users. A *web API* indicates that the information travels across the internet. Users send requests, the resource (a computer/server) interprets the request, and sends a response. The response could be a chunk of data or a message (e.g., \"bad request\" or \"I did what you asked successfully\"). The \"user\" does not have to be a person. An app or website utilize an API. Data analysis tools can often use API's directly as data sources.\n",
    "\n",
    "![API Depiction](img/api_diagram.png)\n",
    "\n",
    " \n",
    "### Why would I want to use the OpenFEMA API rather than download the full dataset?\n",
    "\n",
    "OpenFEMA offers full files for all its datasets. If you are doing some kind of study or visualization that requires the full set of data, downloading the full file is definitely the way to go. See the [OpenFEMA Developer Resources](https://www.fema.gov/about/openfema/developer-resources) webpage for other examples of downloading. However, the API offers several advantages over the full file in some situations:\n",
    "\n",
    "- Easier to incorporate into your own applications or automated scripts.\n",
    "- The ability to filter data. \n",
    "  - Selecting only the records you need can result in a faster download - especially for some of the larger OpenFEMA datasets.\n",
    "  - Retrieving only updates to a previously downloaded dataset.\n",
    "  - Some datasets, such as FIMA NFIP Policies, are so large that analysis cannot occur within a spreadsheet. Either a database or a programming language would be needed.\n",
    "\n",
    "- The ability to shape the data by selecting specific fields for which to return, sorting data, and limiting returned records.\n",
    "  - Can result in faster downloads as there is less data.\n",
    "  - Reduce cleanup work in your code/analysis.\n",
    "\n",
    "### API Terminology\n",
    "You may come across the following terms in either the OpenFEMA documentation, responses from the OpenFEMA mailbox, or other API related documentation.\n",
    "\n",
    "- **API Call** - The process of sending a request to an API endpoint. The endpoint will respond by sending feedback - either the data you requested or some other message.\n",
    "- **API Endpoint** - Technically, the end of a communication channel. For OpenFEMA, this refers to the function name that will return data. For example, DataDeclarationsSummaries is an endpoint.\n",
    "- **Base URL Path** - A web address or location where the endpoints reside. For OpenFEMA, this value is ```https://www.fema.gov/api/open```. This needs to be a part of the API call and is in the following format: ```base url path/version/endpoint name```. \n",
    "- **Cache** - A software or hardware mechanism that stores data so users can access or retrieve data faster. OpenFEMA uses a \"content delivery network\" to cache files and API requests. Additionally, your browser may cache the results of your API calls. Sometimes the cache must be cleared to reflect updated data.\n",
    "- **CSV (comma-separated value)** - A tabular data format easy for humans to read and write. Can be viewed using spreadsheet tools.\n",
    "- **JSON (JavaScript Object Notation)** - A data-interchange format. It is easy for humans to read and write, and easy for computers to parse and generate. Most programming languages support this format. This is the OpenFEMA default format.\n",
    "- **Parameters** - Variables used in computer programming and API queries to pass information to a function or endpoint. The OpenFEMA API offers many parameters to retrieve information.\n",
    "- **Version** - When a new or existing endpoint is created or modified, it is assigned a version. Rather than overwrite an existing endpoint that may break a user's process, both versions are maintained and available for a period of time.\n",
    "\n",
    "## Calling an OpenFEMA Endpoint\n",
    "First you need to find an endpoint. The [OpenFEMA DataSets](https://www.fema.gov/about/openfema/data-sets) page acts as a jumping off point to find a dataset for which you are interested. Clicking on any of the dataset version links will take you to a dataset description page (e.g., [Disaster Declarations Summaries - v2](https://www.fema.gov/openfema-data-page/disaster-declarations-summaries-v2). As illustrated below, the table at the top of the page defines the API endpoint among other useful dataset attributes.\n",
    "\n",
    "![Sample Dataset Header](img/dataset_header.png)\n",
    "\n",
    "### From A Browser\n",
    "Simply entering the base URL path with the version and endpoint name in a web browser URL bar will issue the call and data will be returned: https://www.fema.gov/api/open/v2/DisasterDeclarationsSummaries\n",
    "\n",
    "<div class=\"alert alert-block alert-info\">\n",
    "    <b>Tip:</b> OpenFEMA returns data by default in a JSON format. If you use the FireFox browser, the JSON return will be displayed in a very readable, hierarchical format. Other browsers will display the raw return and will require an extension or plug-in to display it in a more human-readable format. Although the data is returned in a human-readable format in a web browser, it it not possible to work with/perform analysis on the data without the use of other tools. \n",
    "</div>\n",
    "\n",
    "### From Code\n",
    "While the examples presented here are in Python 3, they can be easily transferable to other programming languages. The process is straightforward - declare a library or module that can facilitate requests to web resources, define the URL/API endpoint, issue the API call, and capture the results.\n",
    "\n",
    "<div class=\"alert alert-block alert-info\">\n",
    "    <b>Tip:</b> If you are brand new to computer programming, getting started can be confusing. Normally a developer will have installed Python language tools and an intrepreter and use an interactive developer environment (IDE) to write and execute code. Installing Anaconda (or some other tool that offers Jupyter notebook capability along with the Python language) is an easy way to begin. See the Super Simple Python Tutorial for Beginners at the bottom of this notebook for a basic introduction to Python programming.  \n",
    "</div>\n",
    "\n",
    "<div class=\"alert alert-block alert-warning\">\n",
    "    <b>Note:</b> The following example uses Python's built-in, standard urllib module to issue the request. There are many other modules that offer the same capability: urllib2, urllib3, requests. Urllib is used for its simplicity and so that this code aligns with our other code examples. The alternative libraries are more robust.\n",
    "</div>"
   ]
  },
  {
   "cell_type": "code",
   "execution_count": 1,
   "metadata": {},
   "outputs": [
    {
     "name": "stdout",
     "output_type": "stream",
     "text": [
      "b'{\"metadata\": {\"skip\":0,\"filter\":\"\",\"orderby\":\"\",\"select\":null,\"rundate\":\"2022-09-21T15:08:52.878Z\",\"entityname\":\"FemaWebDisasterDeclarations\",\"version\":\"v1\",\"top\":1000,\"count\":0,\"format\":\"json\",\"metadata\":true,\"url\":\"/api/open/v1/FemaWebDisasterDeclarations\"}, \"FemaWebDisasterDeclarations\": [{\"disasterNumber\":4659,\"declarationDate\":\"2022-07-13T00:00:00.000Z\",\"disasterName\":\"SEVERE STORMS, STRAIGHT-LINE WINDS, AND FLOODING\",\"incidentBeginDate\":\"2022-04-22T00:00:00.000Z\",\"incidentEndDate\":\"2022-06'\n"
     ]
    }
   ],
   "source": [
    "# declare a URL handling module\n",
    "import urllib.request\n",
    "\n",
    "# define URL for the FEMA Web Disaster Declarations endpoint\n",
    "baseUrl = \"https://www.fema.gov/api/open/v1/FemaWebDisasterDeclarations\"\n",
    "\n",
    "# open the URL as defined above and create a the request object \n",
    "request = urllib.request.urlopen(baseUrl)\n",
    "\n",
    "# actually read the data\n",
    "result = request.read()\n",
    "\n",
    "# printing the full result will be huge, so only show the first 500 characters of what was returned\n",
    "print(result[:500])\n"
   ]
  },
  {
   "cell_type": "markdown",
   "metadata": {},
   "source": [
    "The above displays the first 500 characters of what was returned. The request.read() function above returns a \"bytes object\" as there is no way to automatically determine the encoding of the byte stream it receives from the HTTP server. We have to decode it first. The following shows the same 500 characters decoded."
   ]
  },
  {
   "cell_type": "code",
   "execution_count": 2,
   "metadata": {
    "scrolled": false
   },
   "outputs": [
    {
     "name": "stdout",
     "output_type": "stream",
     "text": [
      "{\"metadata\": {\"skip\":0,\"filter\":\"\",\"orderby\":\"\",\"select\":null,\"rundate\":\"2022-09-21T15:08:52.878Z\",\"entityname\":\"FemaWebDisasterDeclarations\",\"version\":\"v1\",\"top\":1000,\"count\":0,\"format\":\"json\",\"metadata\":true,\"url\":\"/api/open/v1/FemaWebDisasterDeclarations\"}, \"FemaWebDisasterDeclarations\": [{\"disasterNumber\":4659,\"declarationDate\":\"2022-07-13T00:00:00.000Z\",\"disasterName\":\"SEVERE STORMS, STRAIGHT-LINE WINDS, AND FLOODING\",\"incidentBeginDate\":\"2022-04-22T00:00:00.000Z\",\"incidentEndDate\":\"2022-06\n"
     ]
    }
   ],
   "source": [
    "# decode and show the first 500 characters of what was returned\n",
    "print(result.decode('utf-8')[:500])"
   ]
  },
  {
   "cell_type": "markdown",
   "metadata": {},
   "source": [
    "To make the returned data easily usable we can transform the results into a Python dictionary. This is easily accomplished using Python's built-in json library/module. We can also use the json library to display the result in a more readable fashion.\n",
    "\n",
    "<div class=\"alert alert-block alert-warning\">\n",
    "    <b>Note:</b> If you are a beginner, and the previous statements seem confusing, the point is that the return from the request (i.e., result = request.read()) is not easy to use in its initial format. We are transforming the data into a format that is easier to work with.\n",
    "</div>"
   ]
  },
  {
   "cell_type": "code",
   "execution_count": 4,
   "metadata": {},
   "outputs": [],
   "source": [
    "import json\n",
    "\n",
    "# transform to Python dictionary\n",
    "jsonData = json.loads(result.decode('utf-8'))\n",
    "\n",
    "# use the dumps() function to display all of the data in a readable format\n",
    "# NOTE: line commented out otherwise the screen would be filled with 1000 records.\n",
    "#       Download the notebook, uncomment and try it yourself.\n",
    "#print(json.dumps(jsonData, indent=2))\n",
    "\n"
   ]
  },
  {
   "cell_type": "markdown",
   "metadata": {},
   "source": [
    "## Working with the Resulting Data\n",
    "The code above issued a request to an OpenFEMA endpoint and was returned data - a list of FEMA disaster summaries in a json format. Now we can work with the data returned. By using the json.dumps() function to transform the returned data into a Python dictionary, we can easily address the elements of the data.\n",
    "\n",
    "By default, an OpenFEMA dataset endpoint returns a json file containing two objects: a metadata object and a dataset object containing an array of objects that represent the actual records. We can see the top level objects this way:"
   ]
  },
  {
   "cell_type": "code",
   "execution_count": 18,
   "metadata": {},
   "outputs": [
    {
     "data": {
      "text/plain": [
       "dict_keys(['metadata', 'FemaWebDisasterDeclarations'])"
      ]
     },
     "execution_count": 18,
     "metadata": {},
     "output_type": "execute_result"
    }
   ],
   "source": [
    "# display the top level returned objects\n",
    "jsonData.keys()"
   ]
  },
  {
   "cell_type": "markdown",
   "metadata": {},
   "source": [
    "### Metadata Object\n",
    "A summary of the metadata object elements can be found near the bottom of [OpenFEMA API Documentation](https://www.fema.gov/about/openfema/api). Essentially, this information summarizes the query you executed - the time it was run, filters applied, fields selected, endpoint name, etc. We can display just this object as follows:"
   ]
  },
  {
   "cell_type": "code",
   "execution_count": 19,
   "metadata": {},
   "outputs": [
    {
     "name": "stdout",
     "output_type": "stream",
     "text": [
      "{\n",
      "  \"skip\": 0,\n",
      "  \"filter\": \"\",\n",
      "  \"orderby\": \"\",\n",
      "  \"select\": null,\n",
      "  \"rundate\": \"2022-09-21T01:27:24.294Z\",\n",
      "  \"entityname\": \"FemaWebDisasterDeclarations\",\n",
      "  \"version\": \"v1\",\n",
      "  \"top\": 1000,\n",
      "  \"count\": 0,\n",
      "  \"format\": \"json\",\n",
      "  \"metadata\": true,\n",
      "  \"url\": \"/api/open/v1/FemaWebDisasterDeclarations\"\n",
      "}\n"
     ]
    }
   ],
   "source": [
    "# use the dumps() function to display only the metadata object\n",
    "print(json.dumps(jsonData['metadata'], indent=2))"
   ]
  },
  {
   "cell_type": "markdown",
   "metadata": {},
   "source": [
    "### Dataset Object - FemaWebDisasterDeclarations\n",
    "Unlike the metadata object, the dataset object is an array of json objects - each of which represents a record in the dataset. We can display one of the objects as follows where the object name is the dataset name and the second dimension of the dictionary is an index representing the record we want. See the data dictionary on the dataset specific webpage (https://www.fema.gov/openfema-data-page/fema-web-disaster-declarations-v1) for field descriptions, data types, and more."
   ]
  },
  {
   "cell_type": "code",
   "execution_count": 20,
   "metadata": {},
   "outputs": [
    {
     "name": "stdout",
     "output_type": "stream",
     "text": [
      "{\n",
      "  \"disasterNumber\": 4659,\n",
      "  \"declarationDate\": \"2022-07-13T00:00:00.000Z\",\n",
      "  \"disasterName\": \"SEVERE STORMS, STRAIGHT-LINE WINDS, AND FLOODING\",\n",
      "  \"incidentBeginDate\": \"2022-04-22T00:00:00.000Z\",\n",
      "  \"incidentEndDate\": \"2022-06-15T00:00:00.000Z\",\n",
      "  \"declarationType\": \"Major Disaster\",\n",
      "  \"stateCode\": \"MN\",\n",
      "  \"stateName\": \"Minnesota\",\n",
      "  \"incidentType\": \"Flood\",\n",
      "  \"entryDate\": \"2022-07-14T00:00:00.000Z\",\n",
      "  \"updateDate\": \"2022-07-14T00:00:00.000Z\",\n",
      "  \"closeoutDate\": null,\n",
      "  \"hash\": \"4249872e48eaecbac8ef0807463f2c82fa183695\",\n",
      "  \"id\": \"be71ef8f-2efb-49f1-8c60-394524dfba45\",\n",
      "  \"lastRefresh\": \"2022-07-20T00:00:00.000Z\"\n",
      "}\n"
     ]
    }
   ],
   "source": [
    "# display the first record in the dataset object in a pretty format\n",
    "print(json.dumps(jsonData['FemaWebDisasterDeclarations'][0], indent=2))"
   ]
  },
  {
   "cell_type": "markdown",
   "metadata": {},
   "source": [
    "To reference an individual value, simply address the desired element/field as the next dimension in the json object. The following will display the disaster name for the first record in the dataset array."
   ]
  },
  {
   "cell_type": "code",
   "execution_count": 21,
   "metadata": {},
   "outputs": [
    {
     "data": {
      "text/plain": [
       "'SEVERE STORMS, STRAIGHT-LINE WINDS, AND FLOODING'"
      ]
     },
     "execution_count": 21,
     "metadata": {},
     "output_type": "execute_result"
    }
   ],
   "source": [
    "# name of the first disaster record in the dataset\n",
    "jsonData['FemaWebDisasterDeclarations'][0]['disasterName']"
   ]
  },
  {
   "cell_type": "markdown",
   "metadata": {},
   "source": [
    "To count the number of records/json objects returned, use the length function as the following example illustrates. The count could be used for verification purposes or could be used as part of a looping construct.\n",
    "\n",
    "<div class=\"alert alert-block alert-warning\">\n",
    "    <b>Note:</b> The number of records in this case is 1,000. By default, the OpenFEMA API will only return 1,000 records for performance reasons. A parameter can be set to increase the maximum returned records to 10,000. To retrieve more than this requires a \"paging\" technique - making multiple API calls until all the data has been retrieved. This concept will be discussed in future tutorials.\n",
    "</div>"
   ]
  },
  {
   "cell_type": "code",
   "execution_count": 22,
   "metadata": {},
   "outputs": [
    {
     "data": {
      "text/plain": [
       "1000"
      ]
     },
     "execution_count": 22,
     "metadata": {},
     "output_type": "execute_result"
    }
   ],
   "source": [
    "# count the number of records in the dataset object using the length function\n",
    "len(jsonData['FemaWebDisasterDeclarations'])"
   ]
  },
  {
   "cell_type": "markdown",
   "metadata": {},
   "source": [
    "Let's say we wanted to list only the earthquakes from the set of returned data. Something like the following can be used to iterate through all the objects in the dataset, looking for those with an incidentType of Earthquake. We will learn in the next tutorial how to do this automatically as part of the API call rather than to iterate through records in code."
   ]
  },
  {
   "cell_type": "code",
   "execution_count": 23,
   "metadata": {},
   "outputs": [
    {
     "name": "stdout",
     "output_type": "stream",
     "text": [
      "3426, EARTHQUAKES, Puerto Rico, 2020-01-07T00:00:00.000Z\n",
      "4548, EARTHQUAKE AND AFTERSHOCKS, Utah, 2020-07-09T00:00:00.000Z\n",
      "3415, EARTHQUAKES, California, 2019-07-08T00:00:00.000Z\n",
      "4473, EARTHQUAKES, Puerto Rico, 2020-01-16T00:00:00.000Z\n",
      "3410, EARTHQUAKE, Alaska, 2018-11-30T00:00:00.000Z\n",
      "4413, EARTHQUAKE, Alaska, 2019-01-31T00:00:00.000Z\n"
     ]
    }
   ],
   "source": [
    "# loop through the records and print the number, name, and location of the earthquakes\n",
    "for rec in jsonData['FemaWebDisasterDeclarations']:\n",
    "    if rec.get('incidentType') == 'Earthquake':\n",
    "        print(str(rec['disasterNumber']) + ', ' + rec['disasterName'] + ', ' + rec['stateName'] + ', ' + rec['declarationDate'])"
   ]
  },
  {
   "cell_type": "markdown",
   "metadata": {},
   "source": [
    "## Saving Data\n",
    "So far we have made an API call and saved the data in a variable, but we may want to save the data for later use. While it is possible to save the data in a different format (e.g., CSV, JSONA), the API offers a way to do this automatically. This will be discussed in the next part of the tutorial.\n",
    "\n",
    "The first example will save the decoded jsonData dictionary as a json file. Since we have the raw json data from our initial API call, we could just save that as presented in the second example."
   ]
  },
  {
   "cell_type": "code",
   "execution_count": 24,
   "metadata": {},
   "outputs": [],
   "source": [
    "# example 1 - convert the dictionary to a json file using our json library (make up any filename you want)\n",
    "with open(\"fwdd_file_1.json\", \"w\") as fp1:\n",
    "    json.dump(jsonData,fp1)\n",
    "    \n",
    "# example 2 - save original result, but this will require decode and translate steps to use later\n",
    "with open(\"fwdd_file_2.json\", \"wb\") as fp2:\n",
    "    fp2.write(result)"
   ]
  },
  {
   "cell_type": "markdown",
   "metadata": {},
   "source": [
    "## Opening Previously Saved Data\n",
    "Opening a saved json dataset is just as easy. The json.load() method will accept a file object, parse the json data, and populate a Python dictionary for you."
   ]
  },
  {
   "cell_type": "code",
   "execution_count": 25,
   "metadata": {},
   "outputs": [
    {
     "name": "stdout",
     "output_type": "stream",
     "text": [
      "{\n",
      "  \"disasterNumber\": 4659,\n",
      "  \"declarationDate\": \"2022-07-13T00:00:00.000Z\",\n",
      "  \"disasterName\": \"SEVERE STORMS, STRAIGHT-LINE WINDS, AND FLOODING\",\n",
      "  \"incidentBeginDate\": \"2022-04-22T00:00:00.000Z\",\n",
      "  \"incidentEndDate\": \"2022-06-15T00:00:00.000Z\",\n",
      "  \"declarationType\": \"Major Disaster\",\n",
      "  \"stateCode\": \"MN\",\n",
      "  \"stateName\": \"Minnesota\",\n",
      "  \"incidentType\": \"Flood\",\n",
      "  \"entryDate\": \"2022-07-14T00:00:00.000Z\",\n",
      "  \"updateDate\": \"2022-07-14T00:00:00.000Z\",\n",
      "  \"closeoutDate\": null,\n",
      "  \"hash\": \"4249872e48eaecbac8ef0807463f2c82fa183695\",\n",
      "  \"id\": \"be71ef8f-2efb-49f1-8c60-394524dfba45\",\n",
      "  \"lastRefresh\": \"2022-07-20T00:00:00.000Z\"\n",
      "}\n"
     ]
    }
   ],
   "source": [
    "# opening the previously saved json file as a dictionary\n",
    "with open(\"fwdd_file_1.json\", \"r\") as fp3:\n",
    "    # store in a new variable to prove we are not using the previously loaded data\n",
    "    jsonData2 = json.load(fp3)\n",
    "    \n",
    "# display the first record in the dataset object in a pretty format\n",
    "print(json.dumps(jsonData2['FemaWebDisasterDeclarations'][0], indent=2))"
   ]
  },
  {
   "cell_type": "markdown",
   "metadata": {},
   "source": [
    "## Final Working Example\n",
    "This is about as simple as it gets to retrieve data from the OpenFEMA API using the Python language. Examples in other languages can be found in the [OpenFEMA Samples on GitHub](https://github.com/FEMA/openfema-samples) repository.\n",
    "\n",
    "<div class=\"alert alert-block alert-warning\">\n",
    "    <b>Note:</b> This is not meant to be a Python language tutorial. The point is to show the retrieval of OpenFEMA data using the API. There are other, more Pythonic ways that this can be done. If you are writing production quality code, it is recommended that you follow industry best practices - evaluate returned values, add error handling, add logging, proper object cleanup, build for resilience by adding retries if failure, etc.\n",
    "</div>"
   ]
  },
  {
   "cell_type": "code",
   "execution_count": 1,
   "metadata": {},
   "outputs": [
    {
     "ename": "URLError",
     "evalue": "<urlopen error [Errno 11001] getaddrinfo failed>",
     "output_type": "error",
     "traceback": [
      "\u001b[1;31m---------------------------------------------------------------------------\u001b[0m",
      "\u001b[1;31mgaierror\u001b[0m                                  Traceback (most recent call last)",
      "File \u001b[1;32mC:\\ProgramData\\Anaconda3\\Lib\\urllib\\request.py:1348\u001b[0m, in \u001b[0;36mAbstractHTTPHandler.do_open\u001b[1;34m(self, http_class, req, **http_conn_args)\u001b[0m\n\u001b[0;32m   1347\u001b[0m \u001b[38;5;28;01mtry\u001b[39;00m:\n\u001b[1;32m-> 1348\u001b[0m     h\u001b[38;5;241m.\u001b[39mrequest(req\u001b[38;5;241m.\u001b[39mget_method(), req\u001b[38;5;241m.\u001b[39mselector, req\u001b[38;5;241m.\u001b[39mdata, headers,\n\u001b[0;32m   1349\u001b[0m               encode_chunked\u001b[38;5;241m=\u001b[39mreq\u001b[38;5;241m.\u001b[39mhas_header(\u001b[38;5;124m'\u001b[39m\u001b[38;5;124mTransfer-encoding\u001b[39m\u001b[38;5;124m'\u001b[39m))\n\u001b[0;32m   1350\u001b[0m \u001b[38;5;28;01mexcept\u001b[39;00m \u001b[38;5;167;01mOSError\u001b[39;00m \u001b[38;5;28;01mas\u001b[39;00m err: \u001b[38;5;66;03m# timeout error\u001b[39;00m\n",
      "File \u001b[1;32mC:\\ProgramData\\Anaconda3\\Lib\\http\\client.py:1286\u001b[0m, in \u001b[0;36mHTTPConnection.request\u001b[1;34m(self, method, url, body, headers, encode_chunked)\u001b[0m\n\u001b[0;32m   1285\u001b[0m \u001b[38;5;250m\u001b[39m\u001b[38;5;124;03m\"\"\"Send a complete request to the server.\"\"\"\u001b[39;00m\n\u001b[1;32m-> 1286\u001b[0m \u001b[38;5;28mself\u001b[39m\u001b[38;5;241m.\u001b[39m_send_request(method, url, body, headers, encode_chunked)\n",
      "File \u001b[1;32mC:\\ProgramData\\Anaconda3\\Lib\\http\\client.py:1332\u001b[0m, in \u001b[0;36mHTTPConnection._send_request\u001b[1;34m(self, method, url, body, headers, encode_chunked)\u001b[0m\n\u001b[0;32m   1331\u001b[0m     body \u001b[38;5;241m=\u001b[39m _encode(body, \u001b[38;5;124m'\u001b[39m\u001b[38;5;124mbody\u001b[39m\u001b[38;5;124m'\u001b[39m)\n\u001b[1;32m-> 1332\u001b[0m \u001b[38;5;28mself\u001b[39m\u001b[38;5;241m.\u001b[39mendheaders(body, encode_chunked\u001b[38;5;241m=\u001b[39mencode_chunked)\n",
      "File \u001b[1;32mC:\\ProgramData\\Anaconda3\\Lib\\http\\client.py:1281\u001b[0m, in \u001b[0;36mHTTPConnection.endheaders\u001b[1;34m(self, message_body, encode_chunked)\u001b[0m\n\u001b[0;32m   1280\u001b[0m     \u001b[38;5;28;01mraise\u001b[39;00m CannotSendHeader()\n\u001b[1;32m-> 1281\u001b[0m \u001b[38;5;28mself\u001b[39m\u001b[38;5;241m.\u001b[39m_send_output(message_body, encode_chunked\u001b[38;5;241m=\u001b[39mencode_chunked)\n",
      "File \u001b[1;32mC:\\ProgramData\\Anaconda3\\Lib\\http\\client.py:1041\u001b[0m, in \u001b[0;36mHTTPConnection._send_output\u001b[1;34m(self, message_body, encode_chunked)\u001b[0m\n\u001b[0;32m   1040\u001b[0m \u001b[38;5;28;01mdel\u001b[39;00m \u001b[38;5;28mself\u001b[39m\u001b[38;5;241m.\u001b[39m_buffer[:]\n\u001b[1;32m-> 1041\u001b[0m \u001b[38;5;28mself\u001b[39m\u001b[38;5;241m.\u001b[39msend(msg)\n\u001b[0;32m   1043\u001b[0m \u001b[38;5;28;01mif\u001b[39;00m message_body \u001b[38;5;129;01mis\u001b[39;00m \u001b[38;5;129;01mnot\u001b[39;00m \u001b[38;5;28;01mNone\u001b[39;00m:\n\u001b[0;32m   1044\u001b[0m \n\u001b[0;32m   1045\u001b[0m     \u001b[38;5;66;03m# create a consistent interface to message_body\u001b[39;00m\n",
      "File \u001b[1;32mC:\\ProgramData\\Anaconda3\\Lib\\http\\client.py:979\u001b[0m, in \u001b[0;36mHTTPConnection.send\u001b[1;34m(self, data)\u001b[0m\n\u001b[0;32m    978\u001b[0m \u001b[38;5;28;01mif\u001b[39;00m \u001b[38;5;28mself\u001b[39m\u001b[38;5;241m.\u001b[39mauto_open:\n\u001b[1;32m--> 979\u001b[0m     \u001b[38;5;28mself\u001b[39m\u001b[38;5;241m.\u001b[39mconnect()\n\u001b[0;32m    980\u001b[0m \u001b[38;5;28;01melse\u001b[39;00m:\n",
      "File \u001b[1;32mC:\\ProgramData\\Anaconda3\\Lib\\http\\client.py:1451\u001b[0m, in \u001b[0;36mHTTPSConnection.connect\u001b[1;34m(self)\u001b[0m\n\u001b[0;32m   1449\u001b[0m \u001b[38;5;124m\"\u001b[39m\u001b[38;5;124mConnect to a host on a given (SSL) port.\u001b[39m\u001b[38;5;124m\"\u001b[39m\n\u001b[1;32m-> 1451\u001b[0m \u001b[38;5;28msuper\u001b[39m()\u001b[38;5;241m.\u001b[39mconnect()\n\u001b[0;32m   1453\u001b[0m \u001b[38;5;28;01mif\u001b[39;00m \u001b[38;5;28mself\u001b[39m\u001b[38;5;241m.\u001b[39m_tunnel_host:\n",
      "File \u001b[1;32mC:\\ProgramData\\Anaconda3\\Lib\\http\\client.py:945\u001b[0m, in \u001b[0;36mHTTPConnection.connect\u001b[1;34m(self)\u001b[0m\n\u001b[0;32m    944\u001b[0m sys\u001b[38;5;241m.\u001b[39maudit(\u001b[38;5;124m\"\u001b[39m\u001b[38;5;124mhttp.client.connect\u001b[39m\u001b[38;5;124m\"\u001b[39m, \u001b[38;5;28mself\u001b[39m, \u001b[38;5;28mself\u001b[39m\u001b[38;5;241m.\u001b[39mhost, \u001b[38;5;28mself\u001b[39m\u001b[38;5;241m.\u001b[39mport)\n\u001b[1;32m--> 945\u001b[0m \u001b[38;5;28mself\u001b[39m\u001b[38;5;241m.\u001b[39msock \u001b[38;5;241m=\u001b[39m \u001b[38;5;28mself\u001b[39m\u001b[38;5;241m.\u001b[39m_create_connection(\n\u001b[0;32m    946\u001b[0m     (\u001b[38;5;28mself\u001b[39m\u001b[38;5;241m.\u001b[39mhost,\u001b[38;5;28mself\u001b[39m\u001b[38;5;241m.\u001b[39mport), \u001b[38;5;28mself\u001b[39m\u001b[38;5;241m.\u001b[39mtimeout, \u001b[38;5;28mself\u001b[39m\u001b[38;5;241m.\u001b[39msource_address)\n\u001b[0;32m    947\u001b[0m \u001b[38;5;66;03m# Might fail in OSs that don't implement TCP_NODELAY\u001b[39;00m\n",
      "File \u001b[1;32mC:\\ProgramData\\Anaconda3\\Lib\\socket.py:827\u001b[0m, in \u001b[0;36mcreate_connection\u001b[1;34m(address, timeout, source_address, all_errors)\u001b[0m\n\u001b[0;32m    826\u001b[0m exceptions \u001b[38;5;241m=\u001b[39m []\n\u001b[1;32m--> 827\u001b[0m \u001b[38;5;28;01mfor\u001b[39;00m res \u001b[38;5;129;01min\u001b[39;00m getaddrinfo(host, port, \u001b[38;5;241m0\u001b[39m, SOCK_STREAM):\n\u001b[0;32m    828\u001b[0m     af, socktype, proto, canonname, sa \u001b[38;5;241m=\u001b[39m res\n",
      "File \u001b[1;32mC:\\ProgramData\\Anaconda3\\Lib\\socket.py:962\u001b[0m, in \u001b[0;36mgetaddrinfo\u001b[1;34m(host, port, family, type, proto, flags)\u001b[0m\n\u001b[0;32m    961\u001b[0m addrlist \u001b[38;5;241m=\u001b[39m []\n\u001b[1;32m--> 962\u001b[0m \u001b[38;5;28;01mfor\u001b[39;00m res \u001b[38;5;129;01min\u001b[39;00m _socket\u001b[38;5;241m.\u001b[39mgetaddrinfo(host, port, family, \u001b[38;5;28mtype\u001b[39m, proto, flags):\n\u001b[0;32m    963\u001b[0m     af, socktype, proto, canonname, sa \u001b[38;5;241m=\u001b[39m res\n",
      "\u001b[1;31mgaierror\u001b[0m: [Errno 11001] getaddrinfo failed",
      "\nDuring handling of the above exception, another exception occurred:\n",
      "\u001b[1;31mURLError\u001b[0m                                  Traceback (most recent call last)",
      "Cell \u001b[1;32mIn[1], line 9\u001b[0m\n\u001b[0;32m      6\u001b[0m baseUrl \u001b[38;5;241m=\u001b[39m \u001b[38;5;124m\"\u001b[39m\u001b[38;5;124mhttps://www.fema.gov/api/open/v1/FemaWebDisasterDeclarations\u001b[39m\u001b[38;5;124m\"\u001b[39m\n\u001b[0;32m      8\u001b[0m \u001b[38;5;66;03m# open the URL as defined above and create a the request object \u001b[39;00m\n\u001b[1;32m----> 9\u001b[0m request \u001b[38;5;241m=\u001b[39m urllib\u001b[38;5;241m.\u001b[39mrequest\u001b[38;5;241m.\u001b[39murlopen(baseUrl)\n\u001b[0;32m     11\u001b[0m \u001b[38;5;66;03m# actually read the data\u001b[39;00m\n\u001b[0;32m     12\u001b[0m result \u001b[38;5;241m=\u001b[39m request\u001b[38;5;241m.\u001b[39mread()\n",
      "File \u001b[1;32mC:\\ProgramData\\Anaconda3\\Lib\\urllib\\request.py:216\u001b[0m, in \u001b[0;36murlopen\u001b[1;34m(url, data, timeout, cafile, capath, cadefault, context)\u001b[0m\n\u001b[0;32m    214\u001b[0m \u001b[38;5;28;01melse\u001b[39;00m:\n\u001b[0;32m    215\u001b[0m     opener \u001b[38;5;241m=\u001b[39m _opener\n\u001b[1;32m--> 216\u001b[0m \u001b[38;5;28;01mreturn\u001b[39;00m opener\u001b[38;5;241m.\u001b[39mopen(url, data, timeout)\n",
      "File \u001b[1;32mC:\\ProgramData\\Anaconda3\\Lib\\urllib\\request.py:519\u001b[0m, in \u001b[0;36mOpenerDirector.open\u001b[1;34m(self, fullurl, data, timeout)\u001b[0m\n\u001b[0;32m    516\u001b[0m     req \u001b[38;5;241m=\u001b[39m meth(req)\n\u001b[0;32m    518\u001b[0m sys\u001b[38;5;241m.\u001b[39maudit(\u001b[38;5;124m'\u001b[39m\u001b[38;5;124murllib.Request\u001b[39m\u001b[38;5;124m'\u001b[39m, req\u001b[38;5;241m.\u001b[39mfull_url, req\u001b[38;5;241m.\u001b[39mdata, req\u001b[38;5;241m.\u001b[39mheaders, req\u001b[38;5;241m.\u001b[39mget_method())\n\u001b[1;32m--> 519\u001b[0m response \u001b[38;5;241m=\u001b[39m \u001b[38;5;28mself\u001b[39m\u001b[38;5;241m.\u001b[39m_open(req, data)\n\u001b[0;32m    521\u001b[0m \u001b[38;5;66;03m# post-process response\u001b[39;00m\n\u001b[0;32m    522\u001b[0m meth_name \u001b[38;5;241m=\u001b[39m protocol\u001b[38;5;241m+\u001b[39m\u001b[38;5;124m\"\u001b[39m\u001b[38;5;124m_response\u001b[39m\u001b[38;5;124m\"\u001b[39m\n",
      "File \u001b[1;32mC:\\ProgramData\\Anaconda3\\Lib\\urllib\\request.py:536\u001b[0m, in \u001b[0;36mOpenerDirector._open\u001b[1;34m(self, req, data)\u001b[0m\n\u001b[0;32m    533\u001b[0m     \u001b[38;5;28;01mreturn\u001b[39;00m result\n\u001b[0;32m    535\u001b[0m protocol \u001b[38;5;241m=\u001b[39m req\u001b[38;5;241m.\u001b[39mtype\n\u001b[1;32m--> 536\u001b[0m result \u001b[38;5;241m=\u001b[39m \u001b[38;5;28mself\u001b[39m\u001b[38;5;241m.\u001b[39m_call_chain(\u001b[38;5;28mself\u001b[39m\u001b[38;5;241m.\u001b[39mhandle_open, protocol, protocol \u001b[38;5;241m+\u001b[39m\n\u001b[0;32m    537\u001b[0m                           \u001b[38;5;124m'\u001b[39m\u001b[38;5;124m_open\u001b[39m\u001b[38;5;124m'\u001b[39m, req)\n\u001b[0;32m    538\u001b[0m \u001b[38;5;28;01mif\u001b[39;00m result:\n\u001b[0;32m    539\u001b[0m     \u001b[38;5;28;01mreturn\u001b[39;00m result\n",
      "File \u001b[1;32mC:\\ProgramData\\Anaconda3\\Lib\\urllib\\request.py:496\u001b[0m, in \u001b[0;36mOpenerDirector._call_chain\u001b[1;34m(self, chain, kind, meth_name, *args)\u001b[0m\n\u001b[0;32m    494\u001b[0m \u001b[38;5;28;01mfor\u001b[39;00m handler \u001b[38;5;129;01min\u001b[39;00m handlers:\n\u001b[0;32m    495\u001b[0m     func \u001b[38;5;241m=\u001b[39m \u001b[38;5;28mgetattr\u001b[39m(handler, meth_name)\n\u001b[1;32m--> 496\u001b[0m     result \u001b[38;5;241m=\u001b[39m func(\u001b[38;5;241m*\u001b[39margs)\n\u001b[0;32m    497\u001b[0m     \u001b[38;5;28;01mif\u001b[39;00m result \u001b[38;5;129;01mis\u001b[39;00m \u001b[38;5;129;01mnot\u001b[39;00m \u001b[38;5;28;01mNone\u001b[39;00m:\n\u001b[0;32m    498\u001b[0m         \u001b[38;5;28;01mreturn\u001b[39;00m result\n",
      "File \u001b[1;32mC:\\ProgramData\\Anaconda3\\Lib\\urllib\\request.py:1391\u001b[0m, in \u001b[0;36mHTTPSHandler.https_open\u001b[1;34m(self, req)\u001b[0m\n\u001b[0;32m   1390\u001b[0m \u001b[38;5;28;01mdef\u001b[39;00m \u001b[38;5;21mhttps_open\u001b[39m(\u001b[38;5;28mself\u001b[39m, req):\n\u001b[1;32m-> 1391\u001b[0m     \u001b[38;5;28;01mreturn\u001b[39;00m \u001b[38;5;28mself\u001b[39m\u001b[38;5;241m.\u001b[39mdo_open(http\u001b[38;5;241m.\u001b[39mclient\u001b[38;5;241m.\u001b[39mHTTPSConnection, req,\n\u001b[0;32m   1392\u001b[0m         context\u001b[38;5;241m=\u001b[39m\u001b[38;5;28mself\u001b[39m\u001b[38;5;241m.\u001b[39m_context, check_hostname\u001b[38;5;241m=\u001b[39m\u001b[38;5;28mself\u001b[39m\u001b[38;5;241m.\u001b[39m_check_hostname)\n",
      "File \u001b[1;32mC:\\ProgramData\\Anaconda3\\Lib\\urllib\\request.py:1351\u001b[0m, in \u001b[0;36mAbstractHTTPHandler.do_open\u001b[1;34m(self, http_class, req, **http_conn_args)\u001b[0m\n\u001b[0;32m   1348\u001b[0m         h\u001b[38;5;241m.\u001b[39mrequest(req\u001b[38;5;241m.\u001b[39mget_method(), req\u001b[38;5;241m.\u001b[39mselector, req\u001b[38;5;241m.\u001b[39mdata, headers,\n\u001b[0;32m   1349\u001b[0m                   encode_chunked\u001b[38;5;241m=\u001b[39mreq\u001b[38;5;241m.\u001b[39mhas_header(\u001b[38;5;124m'\u001b[39m\u001b[38;5;124mTransfer-encoding\u001b[39m\u001b[38;5;124m'\u001b[39m))\n\u001b[0;32m   1350\u001b[0m     \u001b[38;5;28;01mexcept\u001b[39;00m \u001b[38;5;167;01mOSError\u001b[39;00m \u001b[38;5;28;01mas\u001b[39;00m err: \u001b[38;5;66;03m# timeout error\u001b[39;00m\n\u001b[1;32m-> 1351\u001b[0m         \u001b[38;5;28;01mraise\u001b[39;00m URLError(err)\n\u001b[0;32m   1352\u001b[0m     r \u001b[38;5;241m=\u001b[39m h\u001b[38;5;241m.\u001b[39mgetresponse()\n\u001b[0;32m   1353\u001b[0m \u001b[38;5;28;01mexcept\u001b[39;00m:\n",
      "\u001b[1;31mURLError\u001b[0m: <urlopen error [Errno 11001] getaddrinfo failed>"
     ]
    }
   ],
   "source": [
    "# declare a URL handling module\n",
    "import urllib.request\n",
    "import json\n",
    "\n",
    "# define URL for the FEMA Web Disaster Declarations endpoint\n",
    "baseUrl = \"https://www.fema.gov/api/open/v1/FemaWebDisasterDeclarations\"\n",
    "\n",
    "# open the URL as defined above and create a the request object \n",
    "request = urllib.request.urlopen(baseUrl)\n",
    "\n",
    "# actually read the data\n",
    "result = request.read()\n",
    "\n",
    "# transform to Python dictionary\n",
    "jsonData = json.loads(result.decode('utf-8'))\n",
    "\n",
    "# POSSIBLY DO A BUNCH OF STUFF HERE\n",
    "\n",
    "# convert the dictionary to a json file using our json library\n",
    "with open(\"fwdd_file.json\", \"w\") as fp:\n",
    "    json.dump(jsonData,fp)"
   ]
  },
  {
   "cell_type": "markdown",
   "metadata": {},
   "source": [
    "## Where to go Next\n",
    "OpenFEMA API Tutorial Part_2_API_Parameters. This next tutorial will discuss the various parameters that can be added to a base OpenFEMA API endpoint query. This includes parameters to define the query output, shape the data, and filter the data.\n",
    "\n",
    "If you need more information on basic programming, the internet is full of very good tutorials.\n",
    "\n",
    "## Other Resources\n",
    "- [OpenFEMA Homepage](https://www.fema.gov/open)\n",
    "- [OpenFEMA API Documentation](https://www.fema.gov/about/openfema/api)\n",
    "- [OpenFEMA Samples on GitHub](https://github.com/FEMA/openfema-samples)\n",
    "- [Super Simple Python Tutorial for Beginners](https://durrantlab.pitt.edu/super-simple-python-tutorial)\n",
    "- [Setting up a Python Development Environment in Windows](https://learn.microsoft.com/en-us/windows/python/beginners)\n",
    "- [Installing Anaconda](https://docs.anaconda.com/anaconda/install/index.html)"
   ]
  },
  {
   "cell_type": "code",
   "execution_count": null,
   "metadata": {},
   "outputs": [],
   "source": []
  }
 ],
 "metadata": {
  "kernelspec": {
   "display_name": "Python 3 (ipykernel)",
   "language": "python",
   "name": "python3"
  },
  "language_info": {
   "codemirror_mode": {
    "name": "ipython",
    "version": 3
   },
   "file_extension": ".py",
   "mimetype": "text/x-python",
   "name": "python",
   "nbconvert_exporter": "python",
   "pygments_lexer": "ipython3",
   "version": "3.11.4"
  }
 },
 "nbformat": 4,
 "nbformat_minor": 2
}
